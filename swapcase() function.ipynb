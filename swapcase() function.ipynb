{
 "cells": [
  {
   "cell_type": "code",
   "execution_count": 1,
   "metadata": {},
   "outputs": [],
   "source": [
    "# swapcase : 대문자는 소문자로, 소문자는 대문자로\n",
    "def my_swapcase(s) :\n",
    "    alpha = [chr(i) for i in range(ord('a'), ord('z') + 1)] # 소문자 리스트\n",
    "    ALPHA = [chr(i) for i in range(ord('A'), ord('Z') + 1)] # 대문자 리스트\n",
    "    swap = []\n",
    "    \n",
    "    for i in s :\n",
    "        if i in alpha :\n",
    "            swap.append(chr(ord(i) - 32))  # 대문자와 소문자의 숫자 idx는 32 차이\n",
    "        elif i in ALPHA : \n",
    "            swap.append(chr(ord(i) + 32))  \n",
    "        else :\n",
    "            swap.append(i)\n",
    "            \n",
    "    ret = \"\".join(swap)\n",
    "    return ret"
   ]
  },
  {
   "cell_type": "code",
   "execution_count": 2,
   "metadata": {},
   "outputs": [
    {
     "data": {
      "text/plain": [
       "'hELLO, pYTHON AND sOY'"
      ]
     },
     "execution_count": 2,
     "metadata": {},
     "output_type": "execute_result"
    }
   ],
   "source": [
    "st = \"Hello, Python and Soy\" \n",
    "my_swapcase(st)"
   ]
  },
  {
   "cell_type": "code",
   "execution_count": null,
   "metadata": {},
   "outputs": [],
   "source": []
  }
 ],
 "metadata": {
  "kernelspec": {
   "display_name": "Python 3",
   "language": "python",
   "name": "python3"
  },
  "language_info": {
   "codemirror_mode": {
    "name": "ipython",
    "version": 3
   },
   "file_extension": ".py",
   "mimetype": "text/x-python",
   "name": "python",
   "nbconvert_exporter": "python",
   "pygments_lexer": "ipython3",
   "version": "3.8.5"
  }
 },
 "nbformat": 4,
 "nbformat_minor": 4
}
