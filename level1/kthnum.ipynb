{
 "metadata": {
  "language_info": {
   "codemirror_mode": {
    "name": "ipython",
    "version": 3
   },
   "file_extension": ".py",
   "mimetype": "text/x-python",
   "name": "python",
   "nbconvert_exporter": "python",
   "pygments_lexer": "ipython3",
   "version": "3.8.5-final"
  },
  "orig_nbformat": 2,
  "kernelspec": {
   "name": "python3",
   "display_name": "Python 3",
   "language": "python"
  }
 },
 "nbformat": 4,
 "nbformat_minor": 2,
 "cells": [
  {
   "cell_type": "code",
   "execution_count": 1,
   "metadata": {},
   "outputs": [],
   "source": [
    "# programmers \n",
    "# level1\n",
    "# k번째 수\n",
    "# https://programmers.co.kr/learn/challenges\n",
    "\n",
    "def solution(array, commands):\n",
    "    answer = []\n",
    "    answers = []\n",
    "    for command in commands:\n",
    "        answers = array[command[0]-1:command[1]]\n",
    "        answers.sort()\n",
    "        answer.append(answers[command[2]-1])\n",
    "    return answer"
   ]
  },
  {
   "cell_type": "code",
   "execution_count": null,
   "metadata": {},
   "outputs": [],
   "source": []
  }
 ]
}