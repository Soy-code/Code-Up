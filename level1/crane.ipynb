{
 "metadata": {
  "language_info": {
   "codemirror_mode": {
    "name": "ipython",
    "version": 3
   },
   "file_extension": ".py",
   "mimetype": "text/x-python",
   "name": "python",
   "nbconvert_exporter": "python",
   "pygments_lexer": "ipython3",
   "version": "3.8.5-final"
  },
  "orig_nbformat": 2,
  "kernelspec": {
   "name": "python3",
   "display_name": "Python 3"
  }
 },
 "nbformat": 4,
 "nbformat_minor": 2,
 "cells": [
  {
   "cell_type": "code",
   "execution_count": 1,
   "metadata": {},
   "outputs": [],
   "source": [
    "# programmers \n",
    "# level 1\n",
    "# 크레인 인형뽑기\n",
    "# https://programmers.co.kr/learn/challenges\n",
    "def solution(board, moves):\n",
    "    answer = 0\n",
    "    basket = []\n",
    "    Board = [ [board[j][i] for j in range(len(board[i])) ] for i in range(len(board)) ]\n",
    "\n",
    "    for i in Board :\n",
    "        for j in range(i.count(0)) :\n",
    "            i.remove(0) \n",
    "\n",
    "    for i in moves :\n",
    "        if len(Board[i - 1]) > 0 :\n",
    "            tmp = Board[i - 1][0]\n",
    "            del Board[i - 1][0]\n",
    "            basket.append(tmp)\n",
    "\n",
    "    i = 0\n",
    "    while True :\n",
    "        if i >= len(basket) - 1 :\n",
    "            break \n",
    "\n",
    "        if basket[i] == basket[i+1] :\n",
    "            del basket[i+1]\n",
    "            del basket[i]\n",
    "            answer += 2\n",
    "            if i != 0 :\n",
    "                i -= 1\n",
    "    \n",
    "        else :\n",
    "            i += 1\n",
    "            \n",
    "    return answer"
   ]
  },
  {
   "cell_type": "code",
   "execution_count": null,
   "metadata": {},
   "outputs": [],
   "source": []
  }
 ]
}