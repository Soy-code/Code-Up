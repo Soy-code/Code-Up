{
 "cells": [
  {
   "cell_type": "code",
   "execution_count": 23,
   "metadata": {},
   "outputs": [
    {
     "name": "stdout",
     "output_type": "stream",
     "text": [
      "hello\n"
     ]
    }
   ],
   "source": [
    "print('hello')"
   ]
  },
  {
   "cell_type": "markdown",
   "metadata": {},
   "source": [
    "# 1. 문제 설명\n",
    "피보나치 수열은 첫째항이 0, 둘째항이 1이고 셋째항부터는 자신의 전항과 전전항의 합으로 정의합니다. <br>  피보나치 수열이 0과 1로만 시작하는 것이 마음에 들지 않았던 민정이는 첫째항과 둘째항을 자기 마음대로 바꾸고 셋째 항부터는 피보나치수열과 같게 정의되는 수열을 만들고 싶었습니다.           \n",
    "민정이가 정한 첫째항, 둘째항과 이 두 항으로 만든 수열에서 값을 알고 싶은 항의 번호가 순서대로 들어있는 길이 3의 정수 배열 numbers가 주어질 때, 민정이가 알고 싶은 항의 값을 return 하는 solution 함수를 작성하려 합니다. 주어진 코드의 빈칸을 적절히 채워 전체 코드를 완성해 주세요."
   ]
  },
  {
   "cell_type": "code",
   "execution_count": 24,
   "metadata": {},
   "outputs": [
    {
     "name": "stdout",
     "output_type": "stream",
     "text": [
      "21\n",
      "55\n"
     ]
    }
   ],
   "source": [
    "# num1\n",
    "# 주인장 마음대로 피보나치 수열\n",
    "def fib(first, second, n) :\n",
    "    if n == 1:\n",
    "        return second \n",
    "    if n == 0:\n",
    "        return first\n",
    "    return fib(first, second, n-1) + fib(first, second, n-2)\n",
    "\n",
    "# 첫째 항 & 둘째 항 = 1인 기본 피보나치 수열\n",
    "fibo = lambda n: 1 if n <=2 else fibo(n-1) + fibo(n-2)\n",
    "\n",
    "# answer\n",
    "print(fib(2, 3, 5))\n",
    "print(fibo(10))"
   ]
  },
  {
   "cell_type": "markdown",
   "metadata": {},
   "source": [
    "# 2. 문제 설명\n",
    "만화 카페 이용요금을 계산하려 합니다. 만화 카페의 이용요금 계산 방식은 다음과 같습니다.\n",
    "<br>\n",
    "1시간당 이용 요금 : 18세 이상 4000원, 18세 미만 3000원\n",
    "종일 이용권 구매시 : 18세 이상 20000원, 18세 미만 15000원\n",
    "종일 이용권을 구매하지 않은 고객은 시간당 요금을 지불해야 하며, 종일 이용권을 구매한 고객은 이용 시간에 관계없이 정해진 금액만 지불하면 됩니다. 또, 종일 이용권을 구매한 고객은 음료를 주문시 500원씩 할인을 받을 수 있습니다. 이 매장에서 판매하는 음료는 모두 3000원으로 동일하다고 가정합니다.\n",
    "<br>\n",
    "각 고객의 이용 금액을 계산하기 위해 아래와 같이 Customer, BasicCustomer, AllDayCustomer 클래스를 작성하였습니다."
   ]
  },
  {
   "cell_type": "code",
   "execution_count": 27,
   "metadata": {},
   "outputs": [
    {
     "name": "stdout",
     "output_type": "stream",
     "text": [
      "23000\n",
      "27000\n"
     ]
    }
   ],
   "source": [
    "# num2\n",
    "\n",
    "# -> 이건 없어도 되지 않나\n",
    "#class Customer:\n",
    "#    def get_price(self):\n",
    "#        pass\n",
    "\n",
    "class BasicCustomer():\n",
    "    def __init__(self, age, use_hour):\n",
    "        self.age = age\n",
    "        self.use_hour = use_hour\n",
    "\n",
    "    def get_price(self):\n",
    "        if self.age >= 18:\n",
    "            return self.use_hour * 4000\n",
    "        else: \n",
    "            return self.use_hour * 3000\n",
    "\n",
    "class AllDayCustomer():\n",
    "    def __init__(self, age, use_hour):\n",
    "        self.age = age\n",
    "        self.use_hour = use_hour\n",
    "\n",
    "    def get_price(self):\n",
    "        if self.age >= 18:\n",
    "            return 20000\n",
    "        else:\n",
    "            return 15000\n",
    "\n",
    "\n",
    "def solution(basic, allday):\n",
    "    answer = 0\n",
    "\n",
    "    for i in range(len(basic)):\n",
    "        bc = BasicCustomer(basic[i][0], basic[i][1])\n",
    "        answer += bc.get_price()\n",
    "\n",
    "    for i in range(len(allday)):\n",
    "        ad = AllDayCustomer(allday[i][0], allday[i][1])\n",
    "        answer += ad.get_price()\n",
    "\n",
    "    return answer\n",
    "\n",
    "print(solution([[20, 2]], [[17, 1]]))\n",
    "print(solution([[22, 3]], [[14, 2]]))"
   ]
  },
  {
   "cell_type": "markdown",
   "metadata": {},
   "source": [
    "# 3. 문제 설명\n",
    "MMR이란 Matchmaking Rating의 줄임말로, 바둑, 체스, 온라인 게임등의 대전 게임에서 각 플레이어의 실력 지표를 나타내는 점수를 의미합니다.\n",
    "\n",
    "바둑과 같은 대전 게임에서는 각 플레이어의 실력 지표를 점수로 나타내고, 이 점수가 비슷한 플레이어끼리 주로 대결을 하게 됩니다. 일반적으로 MMR이 높을수록 실력이 뛰어난 플레이어임을 의미합니다.\n",
    "\n",
    "MMR은 보통 승리할 경우 계산식에 따라 일점 점수가 상승하며, 패배할 경우에는 점수가 하락합니다.\n",
    "\n",
    "이 문제에서는 게임에서 승리시 +10점이 상승하고, 패배시 -7점이 하락한다고 가정하겠습니다.\n",
    "\n",
    "어떤 플레이어의 초기 MMR점수가 주어질 때, 이 플레이어의 점수가 목표 점수이상이 되기 위해서는 총 몇 게임을 플레이 해야 하는지 구하려 합니다. 단, 이 플레이어는 첫 게임은 항상 승리하며, 이후 게임에서는 패배와 승리를 번갈아가며 한다고 가정합니다.(즉, 승패승패승패... 순으로 반복)\n",
    "\n",
    "예를 들어 플레이어의 초기 점수가 50점, 목표 점수가 65점 이라면 다음과 같이 점수가 변동됩니다."
   ]
  },
  {
   "cell_type": "code",
   "execution_count": 29,
   "metadata": {},
   "outputs": [
    {
     "name": "stdout",
     "output_type": "stream",
     "text": [
      "5\n"
     ]
    }
   ],
   "source": [
    "# num3\n",
    "\n",
    "# 승패승패승패 ...\n",
    "def solution(score, target) :\n",
    "    answer = 0\n",
    "    while score < target :\n",
    "        score += 10\n",
    "        answer += 1\n",
    "        if score >= target :\n",
    "            break\n",
    "        score -= 7\n",
    "        answer += 1\n",
    "    return answer\n",
    "\n",
    "\n",
    "print(solution(50, 65))"
   ]
  },
  {
   "cell_type": "markdown",
   "metadata": {},
   "source": [
    "# 4. 문제 설명\n",
    "놀이터에서 아이들이 각 칸이 1x1 크기 정사각형으로 이루어진 n x n 크기 정사각형 격자 모양의 모래동산을 만들었습니다. 각 격자 칸에는 숫자가 적혀있는데, 이는 해당 칸의 높이를 나타냅니다. 숫자가 클 수록 높이가 높은 칸입니다.\n",
    "\n",
    "시작점 (1, 1)에서 돌구슬을 굴려 도착지 (n, n)에 도달하는 가장 짧은 길을 찾으려고 합니다. 돌구슬은 인접한 상, 하, 좌, 우, 대각선 8개의 방향으로 굴러갈 수 있고, 원래 있던 위치보다 낮은 곳으로만 굴러 갈 수 있습니다.\n",
    "\n",
    "모래동산의 정보를 나타내는 2차원 정수 배열 maps이 매개변수로 주어질 때, 도착점에 도달하기 위한 가장 짧은 길의 길이를 return 하는 solution 함수를 작성하려 합니다. 주어진 코드의 빈칸을 적절히 채워 전체 코드를 완성해 주세요.\n",
    "\n",
    "만약 도착점에 도달할 수 없다면 -1을 return 해주세요.\n",
    "<br>\n",
    "\n",
    "제한사항      \n",
    "- 5 ≤ maps의 길이 ≤ 100  \n",
    "- 5 ≤ maps의 원소의 길이 ≤ 100\n",
    "- 0 ≤ maps[i]의 원소 ≤ 10,000"
   ]
  },
  {
   "cell_type": "markdown",
   "metadata": {},
   "source": [
    "### ※ Stack과 Queue\n",
    "Stack: 선입후출/후입선출"
   ]
  },
  {
   "cell_type": "code",
   "execution_count": 38,
   "metadata": {},
   "outputs": [
    {
     "name": "stdout",
     "output_type": "stream",
     "text": [
      "[5, 2, 3, 7]\n",
      "[5, 2, 3]\n",
      "[5, 2, 3, 1, 4]\n",
      "[5, 2, 3, 1]\n",
      "---------------\n",
      "[5, 2, 3, 1]\n",
      "[1, 3, 2, 5]\n"
     ]
    }
   ],
   "source": [
    "stack = []\n",
    "stack.append(5)\n",
    "stack.append(2)\n",
    "stack.append(3)\n",
    "stack.append(7)\n",
    "print(stack)\n",
    "stack.pop()\n",
    "print(stack)\n",
    "stack.append(1)\n",
    "stack.append(4)\n",
    "print(stack)\n",
    "stack.pop()\n",
    "print(stack)\n",
    "print('---'*5)\n",
    "print(stack)\n",
    "print(stack[::-1])"
   ]
  },
  {
   "cell_type": "markdown",
   "metadata": {},
   "source": [
    "Queue: 선입선출"
   ]
  },
  {
   "cell_type": "code",
   "execution_count": 41,
   "metadata": {},
   "outputs": [
    {
     "name": "stdout",
     "output_type": "stream",
     "text": [
      "deque([5, 2, 3, 7])\n",
      "deque([5, 2, 3])\n",
      "deque([2, 3])\n"
     ]
    }
   ],
   "source": [
    "from collections import deque\n",
    "\n",
    "queue = deque()\n",
    "queue.append(5)\n",
    "queue.append(2)\n",
    "queue.append(3)\n",
    "queue.append(7)\n",
    "print(queue)\n",
    "queue.pop()\n",
    "print(queue)\n",
    "queue.popleft()\n",
    "print(queue)\n"
   ]
  },
  {
   "cell_type": "markdown",
   "metadata": {},
   "source": [
    "### 재귀함수(Recursive Function)\n",
    "- 자기 자신을 다시 호출하는 함수\n",
    "- 종료조건을 꼭 명시해야 함. 그렇지 않으면 무한호출\n"
   ]
  },
  {
   "cell_type": "code",
   "execution_count": 43,
   "metadata": {},
   "outputs": [
    {
     "name": "stdout",
     "output_type": "stream",
     "text": [
      "1 번 째 재귀함수에서  2 번 째 재귀함수를 호출합니다.\n",
      "2 번 째 재귀함수에서  3 번 째 재귀함수를 호출합니다.\n",
      "3 번 째 재귀함수에서  4 번 째 재귀함수를 호출합니다.\n",
      "4 번 째 재귀함수에서  5 번 째 재귀함수를 호출합니다.\n",
      "5 번 째 재귀함수에서  6 번 째 재귀함수를 호출합니다.\n",
      "6 번 째 재귀함수에서  7 번 째 재귀함수를 호출합니다.\n",
      "7 번 째 재귀함수에서  8 번 째 재귀함수를 호출합니다.\n",
      "8 번 째 재귀함수에서  9 번 째 재귀함수를 호출합니다.\n",
      "9 번 째 재귀함수에서  10 번 째 재귀함수를 호출합니다.\n",
      "9 번 째 재귀함수를 종료합니다.\n",
      "8 번 째 재귀함수를 종료합니다.\n",
      "7 번 째 재귀함수를 종료합니다.\n",
      "6 번 째 재귀함수를 종료합니다.\n",
      "5 번 째 재귀함수를 종료합니다.\n",
      "4 번 째 재귀함수를 종료합니다.\n",
      "3 번 째 재귀함수를 종료합니다.\n",
      "2 번 째 재귀함수를 종료합니다.\n",
      "1 번 째 재귀함수를 종료합니다.\n"
     ]
    }
   ],
   "source": [
    "def recursive_function(i):\n",
    "    if i == 10 :\n",
    "        return\n",
    "    print(i, '번 째 재귀함수에서 ', i+1, '번 째 재귀함수를 호출합니다.')\n",
    "    recursive_function(i+1)\n",
    "    print(i, '번 째 재귀함수를 종료합니다.')\n",
    "\n",
    "recursive_function(1)\n",
    "    "
   ]
  },
  {
   "cell_type": "markdown",
   "metadata": {},
   "source": [
    "- 재귀함수의 수행은 스택 자료구조를 이용함"
   ]
  },
  {
   "cell_type": "markdown",
   "metadata": {},
   "source": [
    "\n",
    "\n",
    "\n",
    "\n",
    "\n",
    "\n",
    "\n",
    "## BFS Vs DFS\n",
    "\n",
    "### BFS (Breadth-First Search)\n",
    "- 너비 우선 탐색 알고리즘\n",
    "- 시작 노드에서 인접한 노드를 모두 탐색한 후, 다음 노드로 이동\n",
    "- 방문한 노드를 큐에 저장하고, 먼저 저장된 노드부터 출력\n",
    "- 최단 경로를 찾거나, 노드 간 최단 거리 등을 구하는 데 활용\n",
    "\n",
    "### DFS(Depth-First Search)\n",
    "- 깊이 우선 탐색 알고리즘\n",
    "- 시작 노드에서 한 경로를 따라 최대한 깊게 탐색한 후, 다른 경로를 탐색\n",
    "- 방문한 노드를 스택에 저장하고, 더이상 탐색할 수 없을 때 스택에서 노드를 꺼내어 역순으로 출력\n",
    "- 그래프의 구조 파악, 미로 찾기 문제 등에 용이\n",
    "\n",
    "\n",
    "\n"
   ]
  },
  {
   "cell_type": "code",
   "execution_count": null,
   "metadata": {},
   "outputs": [],
   "source": []
  },
  {
   "cell_type": "code",
   "execution_count": null,
   "metadata": {},
   "outputs": [],
   "source": [
    "# DFS\n",
    "def dfs(graph, start) :\n",
    "    visited = [] # 방문한 노드를 저장할 리스트\n",
    "    stack = [start] # 시작 노드를 스택에 저장\n",
    "    while stack :\n",
    "        node = stack.pop() # 스택에서 맨 마지막 노드를 꺼냄 -> pop(index)하면 해당 index의 값을 꺼냄\n",
    "        if node not in visited :\n",
    "            visited.append(node)  # 방문한 노드를 저장\n",
    "            stack.extend(graph[node] - set(visited))  # 방문하지 않은 인접노드를 스택에 추가\n",
    "    return visited "
   ]
  },
  {
   "cell_type": "markdown",
   "metadata": {},
   "source": []
  },
  {
   "cell_type": "code",
   "execution_count": null,
   "metadata": {},
   "outputs": [],
   "source": [
    "# BFS\n",
    "from collections import deque\n",
    "\n",
    "def bfs(graph, start) :\n",
    "    visited = [] # 방문한 노드를 저장할 리스트\n",
    "    queue = deque"
   ]
  },
  {
   "cell_type": "code",
   "execution_count": null,
   "metadata": {},
   "outputs": [],
   "source": [
    "# num 4\n",
    "\n"
   ]
  }
 ],
 "metadata": {
  "kernelspec": {
   "display_name": "Python 3",
   "language": "python",
   "name": "python3"
  },
  "language_info": {
   "codemirror_mode": {
    "name": "ipython",
    "version": 3
   },
   "file_extension": ".py",
   "mimetype": "text/x-python",
   "name": "python",
   "nbconvert_exporter": "python",
   "pygments_lexer": "ipython3",
   "version": "3.10.9"
  }
 },
 "nbformat": 4,
 "nbformat_minor": 2
}
