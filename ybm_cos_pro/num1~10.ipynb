{
 "cells": [
  {
   "cell_type": "code",
   "execution_count": 23,
   "metadata": {},
   "outputs": [
    {
     "name": "stdout",
     "output_type": "stream",
     "text": [
      "hello\n"
     ]
    }
   ],
   "source": [
    "print('hello')"
   ]
  },
  {
   "cell_type": "markdown",
   "metadata": {},
   "source": [
    "# 1. 문제 설명\n",
    "피보나치 수열은 첫째항이 0, 둘째항이 1이고 셋째항부터는 자신의 전항과 전전항의 합으로 정의합니다. <br>  피보나치 수열이 0과 1로만 시작하는 것이 마음에 들지 않았던 민정이는 첫째항과 둘째항을 자기 마음대로 바꾸고 셋째 항부터는 피보나치수열과 같게 정의되는 수열을 만들고 싶었습니다.           \n",
    "민정이가 정한 첫째항, 둘째항과 이 두 항으로 만든 수열에서 값을 알고 싶은 항의 번호가 순서대로 들어있는 길이 3의 정수 배열 numbers가 주어질 때, 민정이가 알고 싶은 항의 값을 return 하는 solution 함수를 작성하려 합니다. 주어진 코드의 빈칸을 적절히 채워 전체 코드를 완성해 주세요."
   ]
  },
  {
   "cell_type": "code",
   "execution_count": 24,
   "metadata": {},
   "outputs": [
    {
     "name": "stdout",
     "output_type": "stream",
     "text": [
      "21\n",
      "55\n"
     ]
    }
   ],
   "source": [
    "# num1\n",
    "# 주인장 마음대로 피보나치 수열\n",
    "def fib(first, second, n) :\n",
    "    if n == 1:\n",
    "        return second \n",
    "    if n == 0:\n",
    "        return first\n",
    "    return fib(first, second, n-1) + fib(first, second, n-2)\n",
    "\n",
    "# 첫째 항 & 둘째 항 = 1인 기본 피보나치 수열\n",
    "fibo = lambda n: 1 if n <=2 else fibo(n-1) + fibo(n-2)\n",
    "\n",
    "# answer\n",
    "print(fib(2, 3, 5))\n",
    "print(fibo(10))"
   ]
  },
  {
   "cell_type": "markdown",
   "metadata": {},
   "source": [
    "# 2. 문제 설명\n",
    "만화 카페 이용요금을 계산하려 합니다. 만화 카페의 이용요금 계산 방식은 다음과 같습니다.\n",
    "<br>\n",
    "1시간당 이용 요금 : 18세 이상 4000원, 18세 미만 3000원\n",
    "종일 이용권 구매시 : 18세 이상 20000원, 18세 미만 15000원\n",
    "종일 이용권을 구매하지 않은 고객은 시간당 요금을 지불해야 하며, 종일 이용권을 구매한 고객은 이용 시간에 관계없이 정해진 금액만 지불하면 됩니다. 또, 종일 이용권을 구매한 고객은 음료를 주문시 500원씩 할인을 받을 수 있습니다. 이 매장에서 판매하는 음료는 모두 3000원으로 동일하다고 가정합니다.\n",
    "<br>\n",
    "각 고객의 이용 금액을 계산하기 위해 아래와 같이 Customer, BasicCustomer, AllDayCustomer 클래스를 작성하였습니다."
   ]
  },
  {
   "cell_type": "code",
   "execution_count": 27,
   "metadata": {},
   "outputs": [
    {
     "name": "stdout",
     "output_type": "stream",
     "text": [
      "23000\n",
      "27000\n"
     ]
    }
   ],
   "source": [
    "# num2\n",
    "\n",
    "# -> 이건 없어도 되지 않나\n",
    "#class Customer:\n",
    "#    def get_price(self):\n",
    "#        pass\n",
    "\n",
    "class BasicCustomer():\n",
    "    def __init__(self, age, use_hour):\n",
    "        self.age = age\n",
    "        self.use_hour = use_hour\n",
    "\n",
    "    def get_price(self):\n",
    "        if self.age >= 18:\n",
    "            return self.use_hour * 4000\n",
    "        else: \n",
    "            return self.use_hour * 3000\n",
    "\n",
    "class AllDayCustomer():\n",
    "    def __init__(self, age, use_hour):\n",
    "        self.age = age\n",
    "        self.use_hour = use_hour\n",
    "\n",
    "    def get_price(self):\n",
    "        if self.age >= 18:\n",
    "            return 20000\n",
    "        else:\n",
    "            return 15000\n",
    "\n",
    "\n",
    "def solution(basic, allday):\n",
    "    answer = 0\n",
    "\n",
    "    for i in range(len(basic)):\n",
    "        bc = BasicCustomer(basic[i][0], basic[i][1])\n",
    "        answer += bc.get_price()\n",
    "\n",
    "    for i in range(len(allday)):\n",
    "        ad = AllDayCustomer(allday[i][0], allday[i][1])\n",
    "        answer += ad.get_price()\n",
    "\n",
    "    return answer\n",
    "\n",
    "print(solution([[20, 2]], [[17, 1]]))\n",
    "print(solution([[22, 3]], [[14, 2]]))"
   ]
  },
  {
   "cell_type": "markdown",
   "metadata": {},
   "source": [
    "# 3. 문제 설명\n",
    "MMR이란 Matchmaking Rating의 줄임말로, 바둑, 체스, 온라인 게임등의 대전 게임에서 각 플레이어의 실력 지표를 나타내는 점수를 의미합니다.\n",
    "\n",
    "바둑과 같은 대전 게임에서는 각 플레이어의 실력 지표를 점수로 나타내고, 이 점수가 비슷한 플레이어끼리 주로 대결을 하게 됩니다. 일반적으로 MMR이 높을수록 실력이 뛰어난 플레이어임을 의미합니다.\n",
    "\n",
    "MMR은 보통 승리할 경우 계산식에 따라 일점 점수가 상승하며, 패배할 경우에는 점수가 하락합니다.\n",
    "\n",
    "이 문제에서는 게임에서 승리시 +10점이 상승하고, 패배시 -7점이 하락한다고 가정하겠습니다.\n",
    "\n",
    "어떤 플레이어의 초기 MMR점수가 주어질 때, 이 플레이어의 점수가 목표 점수이상이 되기 위해서는 총 몇 게임을 플레이 해야 하는지 구하려 합니다. 단, 이 플레이어는 첫 게임은 항상 승리하며, 이후 게임에서는 패배와 승리를 번갈아가며 한다고 가정합니다.(즉, 승패승패승패... 순으로 반복)\n",
    "\n",
    "예를 들어 플레이어의 초기 점수가 50점, 목표 점수가 65점 이라면 다음과 같이 점수가 변동됩니다."
   ]
  },
  {
   "cell_type": "code",
   "execution_count": 29,
   "metadata": {},
   "outputs": [
    {
     "name": "stdout",
     "output_type": "stream",
     "text": [
      "5\n"
     ]
    }
   ],
   "source": [
    "# num3\n",
    "\n",
    "# 승패승패승패 ...\n",
    "def solution(score, target) :\n",
    "    answer = 0\n",
    "    while score < target :\n",
    "        score += 10\n",
    "        answer += 1\n",
    "        if score >= target :\n",
    "            break\n",
    "        score -= 7\n",
    "        answer += 1\n",
    "    return answer\n",
    "\n",
    "\n",
    "print(solution(50, 65))"
   ]
  },
  {
   "cell_type": "markdown",
   "metadata": {},
   "source": [
    "# 4. 문제 설명\n",
    "놀이터에서 아이들이 각 칸이 1x1 크기 정사각형으로 이루어진 n x n 크기 정사각형 격자 모양의 모래동산을 만들었습니다. 각 격자 칸에는 숫자가 적혀있는데, 이는 해당 칸의 높이를 나타냅니다. 숫자가 클 수록 높이가 높은 칸입니다.\n",
    "\n",
    "시작점 (1, 1)에서 돌구슬을 굴려 도착지 (n, n)에 도달하는 가장 짧은 길을 찾으려고 합니다. 돌구슬은 인접한 상, 하, 좌, 우, 대각선 8개의 방향으로 굴러갈 수 있고, 원래 있던 위치보다 낮은 곳으로만 굴러 갈 수 있습니다.\n",
    "\n",
    "모래동산의 정보를 나타내는 2차원 정수 배열 maps이 매개변수로 주어질 때, 도착점에 도달하기 위한 가장 짧은 길의 길이를 return 하는 solution 함수를 작성하려 합니다. 주어진 코드의 빈칸을 적절히 채워 전체 코드를 완성해 주세요.\n",
    "\n",
    "만약 도착점에 도달할 수 없다면 -1을 return 해주세요.\n",
    "<br>\n",
    "\n",
    "제한사항      \n",
    "- 5 ≤ maps의 길이 ≤ 100  \n",
    "- 5 ≤ maps의 원소의 길이 ≤ 100\n",
    "- 0 ≤ maps[i]의 원소 ≤ 10,000"
   ]
  },
  {
   "cell_type": "code",
   "execution_count": 90,
   "metadata": {},
   "outputs": [
    {
     "data": {
      "text/plain": [
       "[[-1, -1, -1, -1], [-1, -1, -1, -1], [-1, -1, -1, -1], [-1, -1, -1, -1]]"
      ]
     },
     "execution_count": 90,
     "metadata": {},
     "output_type": "execute_result"
    }
   ],
   "source": [
    "visited = [[-1 for _ in range(n)] for _ in range(n)]\n",
    "visited"
   ]
  },
  {
   "cell_type": "code",
   "execution_count": 106,
   "metadata": {},
   "outputs": [],
   "source": [
    "def solution(maps):\n",
    "    n = len(maps)\n",
    "    visited = [[-1 for _ in range(n)] for _ in range(n)]\n",
    "    h = [ -1, -1, 0, 1, 1, 1, 0, -1 ]\n",
    "    v = [ 0, 1, 1, 1, 0, -1, -1, -1 ]\n",
    "    q = []\n",
    "    visited[0][0] = 0\n",
    "    q.append([0,0])\n",
    "    while len(q) > 0:\n",
    "        temp = q[0]\n",
    "        q.pop(0)\n",
    "        cur_x = temp[0]\n",
    "        cur_y = temp[1]\n",
    "        cur_dist = visited[cur_x][cur_y]\n",
    "        if cur_x == n - 1 and cur_y == n - 1:\n",
    "            return cur_dist\n",
    "        for i in range(8):\n",
    "            nx = cur_x + h[i]\n",
    "            ny = cur_y + v[i]\n",
    "            if nx >= 0 and nx < n and ny >= 0 and ny < n and maps[nx][ny] < maps[cur_x][cur_y] and visited[nx][ny] == -1:\n",
    "                q.append([nx, ny])\n",
    "                visited[nx][ny] = cur_dist + 1\n",
    "    return -1\n",
    "\n",
    "solution([[10, 11, 8, 4, 2], [9, 8, 7, 6, 7], [9, 7, 6, 5, 4], [3, 8, 9, 2, 3], [5, 2, 7, 5, 1]])"
   ]
  },
  {
   "cell_type": "markdown",
   "metadata": {},
   "source": [
    "### ※ Stack과 Queue\n",
    "Stack: 선입후출/후입선출"
   ]
  },
  {
   "cell_type": "code",
   "execution_count": 38,
   "metadata": {},
   "outputs": [
    {
     "name": "stdout",
     "output_type": "stream",
     "text": [
      "[5, 2, 3, 7]\n",
      "[5, 2, 3]\n",
      "[5, 2, 3, 1, 4]\n",
      "[5, 2, 3, 1]\n",
      "---------------\n",
      "[5, 2, 3, 1]\n",
      "[1, 3, 2, 5]\n"
     ]
    }
   ],
   "source": [
    "stack = []\n",
    "stack.append(5)\n",
    "stack.append(2)\n",
    "stack.append(3)\n",
    "stack.append(7)\n",
    "print(stack)\n",
    "stack.pop()\n",
    "print(stack)\n",
    "stack.append(1)\n",
    "stack.append(4)\n",
    "print(stack)\n",
    "stack.pop()\n",
    "print(stack)\n",
    "print('---'*5)\n",
    "print(stack)\n",
    "print(stack[::-1])"
   ]
  },
  {
   "cell_type": "markdown",
   "metadata": {},
   "source": [
    "Queue: 선입선출"
   ]
  },
  {
   "cell_type": "code",
   "execution_count": 41,
   "metadata": {},
   "outputs": [
    {
     "name": "stdout",
     "output_type": "stream",
     "text": [
      "deque([5, 2, 3, 7])\n",
      "deque([5, 2, 3])\n",
      "deque([2, 3])\n"
     ]
    }
   ],
   "source": [
    "from collections import deque\n",
    "\n",
    "queue = deque()\n",
    "queue.append(5)\n",
    "queue.append(2)\n",
    "queue.append(3)\n",
    "queue.append(7)\n",
    "print(queue)\n",
    "queue.pop()\n",
    "print(queue)\n",
    "queue.popleft()\n",
    "print(queue)\n"
   ]
  },
  {
   "cell_type": "markdown",
   "metadata": {},
   "source": [
    "### 재귀함수(Recursive Function)\n",
    "- 자기 자신을 다시 호출하는 함수\n",
    "- 종료조건을 꼭 명시해야 함. 그렇지 않으면 무한호출\n"
   ]
  },
  {
   "cell_type": "code",
   "execution_count": 43,
   "metadata": {},
   "outputs": [
    {
     "name": "stdout",
     "output_type": "stream",
     "text": [
      "1 번 째 재귀함수에서  2 번 째 재귀함수를 호출합니다.\n",
      "2 번 째 재귀함수에서  3 번 째 재귀함수를 호출합니다.\n",
      "3 번 째 재귀함수에서  4 번 째 재귀함수를 호출합니다.\n",
      "4 번 째 재귀함수에서  5 번 째 재귀함수를 호출합니다.\n",
      "5 번 째 재귀함수에서  6 번 째 재귀함수를 호출합니다.\n",
      "6 번 째 재귀함수에서  7 번 째 재귀함수를 호출합니다.\n",
      "7 번 째 재귀함수에서  8 번 째 재귀함수를 호출합니다.\n",
      "8 번 째 재귀함수에서  9 번 째 재귀함수를 호출합니다.\n",
      "9 번 째 재귀함수에서  10 번 째 재귀함수를 호출합니다.\n",
      "9 번 째 재귀함수를 종료합니다.\n",
      "8 번 째 재귀함수를 종료합니다.\n",
      "7 번 째 재귀함수를 종료합니다.\n",
      "6 번 째 재귀함수를 종료합니다.\n",
      "5 번 째 재귀함수를 종료합니다.\n",
      "4 번 째 재귀함수를 종료합니다.\n",
      "3 번 째 재귀함수를 종료합니다.\n",
      "2 번 째 재귀함수를 종료합니다.\n",
      "1 번 째 재귀함수를 종료합니다.\n"
     ]
    }
   ],
   "source": [
    "def recursive_function(i):\n",
    "    if i == 10 :\n",
    "        return\n",
    "    print(i, '번 째 재귀함수에서 ', i+1, '번 째 재귀함수를 호출합니다.')\n",
    "    recursive_function(i+1)\n",
    "    print(i, '번 째 재귀함수를 종료합니다.')\n",
    "\n",
    "recursive_function(1)\n",
    "    "
   ]
  },
  {
   "cell_type": "markdown",
   "metadata": {},
   "source": [
    "- 재귀함수의 수행은 스택 자료구조를 이용함\n",
    "- 함수를 계속 호출했을 때 가장 마지막에 호출한 함수가 먼저 수행을 끝내야 그 앞의 함수 호출이 종료\n",
    "- 스택 자료구조를 활용해야 하는 상당수 알고리즘은 재귀함수로 간편하게 구현될 수 있음 (DFS)"
   ]
  },
  {
   "cell_type": "code",
   "execution_count": 44,
   "metadata": {},
   "outputs": [
    {
     "name": "stdout",
     "output_type": "stream",
     "text": [
      "반복적으로 구현:  120\n",
      "재귀적으로 구현:  120\n"
     ]
    }
   ],
   "source": [
    "# 반복문 이용 factorial\n",
    "def factorial_iterative(n):\n",
    "    result = 1\n",
    "    for i in range(1, n+1) :\n",
    "        result *= i\n",
    "    return result\n",
    "\n",
    "# 재귀함수 이용 factorial\n",
    "def factorial_recursive(n) :\n",
    "    if n <= 1 :\n",
    "        return 1\n",
    "    return n * factorial_recursive(n-1) \n",
    "\n",
    "print('반복적으로 구현: ', factorial_iterative(5))\n",
    "print('재귀적으로 구현: ', factorial_recursive(5))"
   ]
  },
  {
   "cell_type": "markdown",
   "metadata": {},
   "source": [
    "## DFS vs. BFS\n",
    "### DFS(Depth-First Search)\n",
    "- 깊이 우선 탐색 알고리즘\n",
    "- 시작 노드에서 한 경로를 따라 최대한 깊게 탐색한 후, 다른 경로를 탐색\n",
    "- 방문한 노드를 스택에 저장하고, 더이상 탐색할 수 없을 때 스택에서 노드를 꺼내어 역순으로 출력\n",
    "- 그래프의 구조 파악, 미로 찾기 문제 등에 용이\n",
    "\n",
    "\n",
    "\n",
    "\n"
   ]
  },
  {
   "cell_type": "code",
   "execution_count": 86,
   "metadata": {},
   "outputs": [
    {
     "name": "stdout",
     "output_type": "stream",
     "text": [
      "[[0, 7, 5], [7, 0, 99999999], [5, 99999999, 0]]\n",
      "[[], [], []]\n",
      "[[(1, 7), (2, 5)], [(0, 7)], [(0, 5)]]\n",
      "예제 인접행렬:  [[], [2, 3, 8], [1, 7], [1, 4, 5], [3, 5], [3, 4], [7], [2, 6, 8], [1, 7]]\n",
      "방문 노드:  1 \n",
      "방문 노드:  2 \n",
      "방문 노드:  7 \n",
      "방문 노드:  6 \n",
      "방문 노드:  8 \n",
      "방문 노드:  3 \n",
      "방문 노드:  4 \n",
      "방문 노드:  5 \n"
     ]
    }
   ],
   "source": [
    "# 인접행렬(Adjacency Matrix) 방식\n",
    "INF = 99999999\n",
    "graph = [\n",
    "    [0, 7, 5], \n",
    "    [7, 0, INF], \n",
    "    [5, INF, 0]\n",
    "]\n",
    "print(graph)\n",
    "\n",
    "\n",
    "# 인접리스트(Adjacency List) 방식\n",
    "graph = [[] for _ in range(3)]\n",
    "print(graph)\n",
    "# 노드 0에 연결된 노드 정보\n",
    "graph[0].append((1, 7))\n",
    "graph[0].append((2, 5))\n",
    "# 노드 1에 연결된 노드 정보\n",
    "graph[1].append((0, 7))\n",
    "# 노드 2에 연결된 노드 정보\n",
    "graph[2].append((0, 5))\n",
    "print(graph)\n",
    "\n",
    "\n",
    "\n",
    "# dfs 예제\n",
    "graph = [[] for _ in range(9)]\n",
    "# 1번 노드와 연결된 노드\n",
    "graph[1].append(2)\n",
    "graph[1].append(3)\n",
    "graph[1].append(8)\n",
    "# 2번 노드와 연결된 노드\n",
    "graph[2].append(1)\n",
    "graph[2].append(7)\n",
    "# 3번 노드와 연결된 노드\n",
    "graph[3].append(1)\n",
    "graph[3].append(4)\n",
    "graph[3].append(5)\n",
    "# 4번 노드와 연결된 노드\n",
    "graph[4].append(3)\n",
    "graph[4].append(5)\n",
    "# 5번 노드와 연결된 노드\n",
    "graph[5].append(3)\n",
    "graph[5].append(4)\n",
    "# 6번 노드와 연결된 노드\n",
    "graph[6].append(7)\n",
    "# 7번 노드와 연결된 노드\n",
    "graph[7].append(2)\n",
    "graph[7].append(6)\n",
    "graph[7].append(8)\n",
    "# 8번 노드와 연결된 노드\n",
    "graph[8].append(1)\n",
    "graph[8].append(7)\n",
    "\n",
    "print('예제 인접행렬: ', graph)\n",
    "\n",
    "def dfs(graph, v, visited) :\n",
    "    visited[v] = True \n",
    "    print('방문 노드: ', v, end = ' \\n')\n",
    "    for i in graph[v] :\n",
    "        if not visited[i] :\n",
    "            dfs(graph, i, visited)\n",
    "\n",
    "\n",
    "visited = [False] * 9\n",
    "dfs(graph, 1, visited)\n",
    "            \n",
    "            \n",
    "# 다른 예시\n",
    "def dfs(graph, start) :\n",
    "    visited = [] # 방문한 노드를 저장할 리스트\n",
    "    stack = [start] # 시작 노드를 스택에 저장\n",
    "    while stack :\n",
    "        node = stack.pop() # 스택에서 맨 마지막 노드를 꺼냄 -> pop(index)하면 해당 index의 값을 꺼냄\n",
    "        if node not in visited :\n",
    "            visited.append(node)  # 방문한 노드를 저장\n",
    "            stack.extend(graph[node] - set(visited))  # 방문하지 않은 인접노드를 스택에 추가\n",
    "    return visited \n",
    "    "
   ]
  },
  {
   "cell_type": "markdown",
   "metadata": {},
   "source": [
    "\n",
    "### BFS (Breadth-First Search)\n",
    "- 너비 우선 탐색 알고리즘 (가까운 노드부터 탐색)\n",
    "- 시작 노드에서 인접한 노드를 모두 탐색한 후, 다음 노드로 이동\n",
    "- 방문한 노드를 큐에 저장하고, 먼저 저장된 노드부터 출력\n",
    "- 최단 경로를 찾거나, 노드 간 최단 거리 등을 구하는 데 활용"
   ]
  },
  {
   "cell_type": "code",
   "execution_count": 65,
   "metadata": {},
   "outputs": [
    {
     "name": "stdout",
     "output_type": "stream",
     "text": [
      "방문 노드:  1 \n",
      "방문 노드:  2 \n",
      "방문 노드:  3 \n",
      "방문 노드:  8 \n",
      "방문 노드:  7 \n",
      "방문 노드:  4 \n",
      "방문 노드:  5 \n",
      "방문 노드:  6 \n"
     ]
    }
   ],
   "source": [
    "# BFS\n",
    "from collections import deque\n",
    "\n",
    "def bfs(graph, start, visited) :\n",
    "    queue = deque([start])  # 시작(현재)노드를 방문 처리\n",
    "    visited[start] = True\n",
    "    while queue :\n",
    "        v = queue.popleft() \n",
    "        print('방문 노드: ', v, end = ' \\n')\n",
    "        for i in graph[v] :\n",
    "            if not visited[i] :\n",
    "                queue.append(i) \n",
    "                visited[i] = True \n",
    "\n",
    "graph = [[] for _ in range(9)]\n",
    "# 1번 노드와 연결된 노드\n",
    "graph[1].append(2)\n",
    "graph[1].append(3)\n",
    "graph[1].append(8)\n",
    "# 2번 노드와 연결된 노드\n",
    "graph[2].append(1)\n",
    "graph[2].append(7)\n",
    "# 3번 노드와 연결된 노드\n",
    "graph[3].append(1)\n",
    "graph[3].append(4)\n",
    "graph[3].append(5)\n",
    "# 4번 노드와 연결된 노드\n",
    "graph[4].append(3)\n",
    "graph[4].append(5)\n",
    "# 5번 노드와 연결된 노드\n",
    "graph[5].append(3)\n",
    "graph[5].append(4)\n",
    "# 6번 노드와 연결된 노드\n",
    "graph[6].append(7)\n",
    "# 7번 노드와 연결된 노드\n",
    "graph[7].append(2)\n",
    "graph[7].append(6)\n",
    "graph[7].append(8)\n",
    "# 8번 노드와 연결된 노드\n",
    "graph[8].append(1)\n",
    "graph[8].append(7)\n",
    "\n",
    "visited = [False] * 9\n",
    "bfs(graph, 1, visited)"
   ]
  },
  {
   "cell_type": "code",
   "execution_count": 87,
   "metadata": {},
   "outputs": [
    {
     "name": "stdout",
     "output_type": "stream",
     "text": [
      "matrix:  [[0, 0, 1, 1, 0], [0, 0, 0, 1, 1], [1, 1, 1, 1, 1], [0, 0, 0, 0, 0]]\n"
     ]
    }
   ],
   "source": [
    "# 예제\n",
    "# input: 15 14\n",
    "# input: 4 5\n",
    "n, m = map(int, input().split())\n",
    "\n",
    "graph = []\n",
    "for i in range(n) :\n",
    "    graph.append(list(map(int, input())))\n",
    "print('matrix: ', graph)    \n"
   ]
  },
  {
   "cell_type": "code",
   "execution_count": 89,
   "metadata": {},
   "outputs": [
    {
     "name": "stdout",
     "output_type": "stream",
     "text": [
      "3\n"
     ]
    }
   ],
   "source": [
    "# n=4, m=5\n",
    "def dfs(x, y) :\n",
    "    if x <= -1 or x >= n or y <= -1 or y >= m :\n",
    "        return False \n",
    "    if graph[x][y] == 0 :\n",
    "        # 현재 노드 방문 처리\n",
    "        graph[x][y] = 1\n",
    "        # 상/하/좌/우 모두 재귀적으로 호출\n",
    "        dfs(x-1, y)\n",
    "        dfs(x, y-1)\n",
    "        dfs(x+1, y)\n",
    "        dfs(x, y+1)\n",
    "        return True\n",
    "    return False\n",
    "\n",
    "result = 0\n",
    "for i in range(n) :\n",
    "    for j in range(m) :\n",
    "        if dfs(i, j) == True :\n",
    "            result += 1\n",
    "\n",
    "print(result)"
   ]
  },
  {
   "cell_type": "markdown",
   "metadata": {},
   "source": [
    "# 5.  문제 설명\n",
    "패스트 푸드점에서 햄버거, 음료수, 사이드 메뉴를 각각 하나씩 포함하여 세트 메뉴를 만들려 합니다.\n",
    "\n",
    "다음은 이 음식점에서 구성한 세트 메뉴를 나타낸 표입니다.\n",
    "\n",
    "햄버거\t음료수\t사이드\t가격\n",
    "bulgogi\tcider\tfrench fries\t6900\n",
    "chicken\tcider\tcheese stick\t7500\n",
    "shrimp\tcoke\tcheese stick\t8200\n",
    "만약 고객이 [chicken, cider, cheese stick]을 선택했다면 두 번째 세트 메뉴의 가격인 7500원을 반환하면 됩니다.\n",
    "\n",
    "패스트 푸드점에서 구성한 세트메뉴와 그 가격이 담긴 2차원 문자열 배열 set_menu, 고객이 주문한 음식이 담긴 문자열 배열 order가 매개변수로 주어질 때, 고객이 지불해야될 금액을 문자열 형태로 return 하는 solution 함수를 작성했습니다.         \n",
    "코드가 올바르게 동작하도록 한 줄을 수정해 주세요."
   ]
  },
  {
   "cell_type": "code",
   "execution_count": 109,
   "metadata": {},
   "outputs": [
    {
     "name": "stdout",
     "output_type": "stream",
     "text": [
      "7500\n"
     ]
    }
   ],
   "source": [
    "def solution(set_menu, order):\n",
    "    answer = \"\"\n",
    "    for s in set_menu:\n",
    "        if s[0] == order[0] and s[1] == order[1] and s[2] == order[2] :\n",
    "            answer = s[3]\n",
    "    return answer\n",
    "\n",
    "print(solution([[\"bulgogi\", \"cider\", \"french fries\", \"6900\"], [\"chicken\", \"cider\", \"cheese stick\", \"7500\"], [\"shrimp\", \"coke\", \"cheese stick\", \"8200\"]], \n",
    "               [\"chicken\", \"cider\", \"cheese stick\"]))"
   ]
  },
  {
   "cell_type": "markdown",
   "metadata": {},
   "source": [
    "# 6. 문제 설명\n",
    "수직선 위에 k개의 보물이 있습니다. 보물은 좌표가 정수인 점 위에 있고, 같은 위치에 둘 이상의 보물이 있는 경우는 없습니다.\n",
    "\n",
    "여러분은 길이 m만큼의 구간을 택할 수 있습니다. 내가 택한 구간에 있는 보물은 모두 내 것이기 때문에, 어느 곳을 고를지를 잘 골라야 합니다. 구간의 시작점과 끝점에 있는 보물도 가질 수 있습니다.\n",
    "\n",
    "예를 들어, k=5개의 보물이 2, 3, 5, 7, 11 위치에 있고, m=4 길이 만큼의 구간을  고를 수 있다고 합시다. 구간 [2, 6] 을 고른다면, 2, 3, 5 위치에 있는 보물 총 3개를 가질 수 있습니다. 구간 [3, 7]을 고른다면 3, 5, 7 위치에 있는 보물 총 3개를 가질 수 있습니다. 이 두 가지 경우가 가장 보물을 많이 가질 수 있는 경우라는 것을 알 수 있습니다.\n",
    "\n",
    "보물의 개수 k, 구간의 길이 m, 보물의 위치 l이 매개변수로 주어졌을 때 보물을 가장 많이 가져올 수 있는 개수를 return 하는 solution 함수를 작성했습니다. 코드가 올바르게 동작하도록 한 줄을 수정해 주세요."
   ]
  },
  {
   "cell_type": "code",
   "execution_count": 112,
   "metadata": {},
   "outputs": [
    {
     "name": "stdout",
     "output_type": "stream",
     "text": [
      "3\n"
     ]
    }
   ],
   "source": [
    "def solution(k, m, l):\n",
    "    l.sort()\n",
    "    answer = 0\n",
    "    p = 0\n",
    "    cnt = 0\n",
    "    for i in range(0, k):\n",
    "        while l[i] - l[p] > m:\n",
    "            cnt -= 1\n",
    "            p += 1\n",
    "        cnt += 1\n",
    "        answer = max(answer, cnt)\n",
    "    return answer\n",
    "\n",
    "print(solution(5, 4, [2,3,5,7,11]))"
   ]
  },
  {
   "cell_type": "markdown",
   "metadata": {},
   "source": [
    "# 7. 문제 설명\n",
    "발렌타인 데이를 손꼽아 기다리며 깜짝 이벤트를 준비 중인 로맨틱한 병준이는 초콜릿으로 세레나데를 준비하려 합니다. 병준이는 알파벳 초콜릿으로 사랑의 노래 가사를 적어 벽을 채우기로 했습니다.\n",
    "\n",
    "알파벳 초콜릿은 대문자 A부터 Z까지 밖에 없습니다. 따라서, 병준이는 영어 가사 중에서 알파벳에 해당하는 부분만 모두 대문자로 벽에 적으려 합니다. 외국어 가사 문자열 lyrics가 매개변수로 주어질 때, 필요한 알파벳 초콜릿의 개수를 return 하는 solution 함수를 완성해주세요."
   ]
  },
  {
   "cell_type": "code",
   "execution_count": 126,
   "metadata": {},
   "outputs": [],
   "source": [
    "def solution(lyrics):\n",
    "    return sum([l.isalpha() for l in list(lyrics)])\n",
    "\n",
    "\n",
    "print(solution(\"I love you.\"))"
   ]
  },
  {
   "cell_type": "markdown",
   "metadata": {},
   "source": [
    "# 8. 문제 설명\n",
    "자연수들이 배열에 담겨 주어질 때, 배열에서 연속한 세 수의 합 중 최댓값을 찾으려 합니다.\n",
    "\n",
    "예를 들어 배열에 담긴 숫자가 [1, 5, 2, 4, 8, 8, 3] 일때 [4, 8, 8]을 더하면 20이 되며, 이때가 최댓값입니다.\n",
    "\n",
    "정수가 딤긴 배열 arr가 매개변수로 주어질 때, 연속한 세 수의 합의 최댓값을 return 하도록 solution 함수를 완성해주세요.\n",
    "\n"
   ]
  },
  {
   "cell_type": "code",
   "execution_count": 127,
   "metadata": {},
   "outputs": [
    {
     "name": "stdout",
     "output_type": "stream",
     "text": [
      "20\n"
     ]
    }
   ],
   "source": [
    "def solution(arr):\n",
    "    answer = 0\n",
    "    for i in range(0, len(arr) - 2):\n",
    "        answer = max(answer, arr[i] + arr[i + 1] + arr[i + 2])\n",
    "    return answer\n",
    "\n",
    "print(solution([1, 5, 2, 4, 8, 8, 3]))"
   ]
  },
  {
   "cell_type": "markdown",
   "metadata": {},
   "source": [
    "# 9. 문제 설명\n",
    "n + 1과 n - 1이 모두 소수인 소수쌍을 쌍둥이 소수라고 부릅니다. 에를 들어 (3, 5), (5, 7), (11, 13)은 쌍둥이 소수입니다.\n",
    "\n",
    "이를 조금 확장하여 n + q와 n - q가 모두 소수인 소수쌍을 친척 소수라고 부르겠습니다.\n",
    "\n",
    "임의의 자연수 n을 기준으로 같은 거리만큼 떨어진 두 소수를 친척 소수라고 부른다는 의미입니다.       \n",
    "n은 4이상의 정수, q는 1이상의 정수입니다.     \n",
    "예를 들어 두 소수 3과 7은 5를 기준으로 양쪽 방향으로 2만큼 떨어져 있으므로 친척 소수입니다.       \n",
    "또 다른 친척 소수의 예시로 다음과 같은 것들이 있습니다.\n",
    "\n",
    "(3, 19) -> 11을 기준으로 +8, -8\n",
    "(11, 23) -> 17을 기준으로 +6, -6\n",
    "(37, 41) -> 39를 기준으로 +2, -2\n",
    "(23, 97) -> 60을 기준으로 +37, -37\n",
    "이때, 임의의 수 n을 기준으로 하는 친척 소수는 여러쌍이 있을 수 있습니다.\n",
    "\n",
    "(3, 31), (5, 29), (11, 23) -> 모두 17을 기준으로 하는 친척 소수쌍       \n",
    "임의의 자연수 n이 주어질 때, n을 기준으로 하는 친척 소수쌍은 모두 몇 쌍인지 구해 return 하도록 solution 함수를 완성해주세요."
   ]
  },
  {
   "cell_type": "code",
   "execution_count": null,
   "metadata": {},
   "outputs": [],
   "source": []
  },
  {
   "cell_type": "markdown",
   "metadata": {},
   "source": [
    "# 10. 문제 설명\n",
    "n + 1과 n - 1이 모두 소수인 소수쌍을 쌍둥이 소수라고 부릅니다. 에를 들어 (3, 5), (5, 7), (11, 13)은 쌍둥이 소수입니다.\n",
    "\n",
    "이를 조금 확장하여 n + q와 n - q가 모두 소수인 소수쌍을 친척 소수라고 부르겠습니다.\n",
    "\n",
    "임의의 자연수 n을 기준으로 같은 거리만큼 떨어진 두 소수를 친척 소수라고 부른다는 의미입니다.       \n",
    "n은 4이상의 정수, q는 1이상의 정수입니다.     \n",
    "예를 들어 두 소수 3과 7은 5를 기준으로 양쪽 방향으로 2만큼 떨어져 있으므로 친척 소수입니다.       \n",
    "또 다른 친척 소수의 예시로 다음과 같은 것들이 있습니다.\n",
    "\n",
    "(3, 19) -> 11을 기준으로 +8, -8\n",
    "(11, 23) -> 17을 기준으로 +6, -6\n",
    "(37, 41) -> 39를 기준으로 +2, -2\n",
    "(23, 97) -> 60을 기준으로 +37, -37\n",
    "이때, 임의의 수 n을 기준으로 하는 친척 소수는 여러쌍이 있을 수 있습니다.\n",
    "\n",
    "(3, 31), (5, 29), (11, 23) -> 모두 17을 기준으로 하는 친척 소수쌍       \n",
    "임의의 자연수 n이 주어질 때, n을 기준으로 하는 친척 소수쌍은 모두 몇 쌍인지 구해 return 하도록 solution 함수를 완성해주세요."
   ]
  }
 ],
 "metadata": {
  "kernelspec": {
   "display_name": "Python 3",
   "language": "python",
   "name": "python3"
  },
  "language_info": {
   "codemirror_mode": {
    "name": "ipython",
    "version": 3
   },
   "file_extension": ".py",
   "mimetype": "text/x-python",
   "name": "python",
   "nbconvert_exporter": "python",
   "pygments_lexer": "ipython3",
   "version": "3.10.9"
  }
 },
 "nbformat": 4,
 "nbformat_minor": 2
}
